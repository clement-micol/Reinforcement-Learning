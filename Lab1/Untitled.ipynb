{
 "cells": [
  {
   "cell_type": "code",
   "execution_count": null,
   "id": "25e25c64",
   "metadata": {},
   "outputs": [],
   "source": [
    "#initialize episodic structure\n",
    "init()\n",
    "num_episodes=50000; #number of training episodes, you can increase this to train more\n",
    "episode_max_length=100;\n",
    "#initialize discount factor, learning rate\n",
    "gamma=0.95\n",
    "learnRate=0.8\n",
    "\n",
    "#create Q table\n",
    "Q=np.zeros([env.observation_space.n,env.action_space.n]) #Q(s,a). The Q-values from this array will be used to evaluate your policy.\n",
    "n=np.ones([env.observation_space.n,env.action_space.n])  #recording number of trails for each arm\n",
    "\n",
    "epsilon_evolution = []\n",
    "#execute in episodes\n",
    "for i in range(num_episodes):\n",
    "    learnRate = -.99/np.sqrt(num_episodes-1)*np.sqrt(i)+1\n",
    "    s = env.reset()\n",
    "    d = False #not done\n",
    "    epsilon = np.sqrt(i)/np.sqrt(num_episodes-1)\n",
    "    for t in range(episode_max_length):\n",
    "        ###########SELECT ACTION a for state s using Q-values ##################\n",
    "        #example\n",
    "        # a = np.argmax(Q[s,:])\n",
    "        u = np.random.rand()\n",
    "        if u<epsilon :\n",
    "          a = np.argmax(Q[s,:])\n",
    "        else :\n",
    "          a = env.action_space.sample()\n",
    "        \n",
    "        #get new state, reward, done\n",
    "        s1, r, d, _ = env.step(a)\n",
    "        \n",
    "        ##### update Q(s,a) ############\n",
    "        td = r + gamma*np.max(Q[s1,:])-Q[s,a]\n",
    "        Q[s,a] += learnRate*td\n",
    "                \n",
    "        #break if done, reached terminal state \n",
    "        if d == True:\n",
    "            break\n",
    "        s=s1\n",
    "    \n",
    "    #log per-episode reward and moving average over 100 episodes\n",
    "    wandb.log({ \"training reward\" : rEpisode, \"training reward moving average\" : movingAverage, \"training episode\" : i})\n",
    "wandb.run.summary[\"number of training episodes\"]=num_episodes"
   ]
  }
 ],
 "metadata": {
  "kernelspec": {
   "display_name": "Python 3",
   "language": "python",
   "name": "python3"
  },
  "language_info": {
   "codemirror_mode": {
    "name": "ipython",
    "version": 3
   },
   "file_extension": ".py",
   "mimetype": "text/x-python",
   "name": "python",
   "nbconvert_exporter": "python",
   "pygments_lexer": "ipython3",
   "version": "3.8.8"
  }
 },
 "nbformat": 4,
 "nbformat_minor": 5
}
