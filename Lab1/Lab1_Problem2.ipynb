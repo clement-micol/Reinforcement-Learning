{
  "cells": [
    {
      "cell_type": "markdown",
      "metadata": {
        "id": "PqRkYimrQLkw"
      },
      "source": [
        "# Lab 1: Problem 2 (TD-learning with policy improvement)"
      ]
    },
    {
      "cell_type": "markdown",
      "metadata": {
        "id": "2u19CW-ZQLk0"
      },
      "source": [
        "*OpenAI gym FrozenLake environment*\n",
        "\n",
        "Winter is here. You and your friends were tossing around a frisbee at the park\n",
        "    when you made a wild throw that left the frisbee out in the middle of the lake.\n",
        "    The water is mostly frozen, but there are a few holes where the ice has melted.\n",
        "    If you step into one of those holes, you'll fall into the freezing water.\n",
        "    At this time, there's an international frisbee shortage, so it's absolutely imperative that\n",
        "    you navigate across the lake and retrieve the disc.\n",
        "    However, the ice is slippery, so you won't always move in the direction you intend.\n",
        "    The surface is described using a grid like the following\n",
        "\n",
        "        SFFF\n",
        "        FHFH\n",
        "        FFFH\n",
        "        HFFG\n",
        "\n",
        "    S : starting point, safe\n",
        "    F : frozen surface, safe\n",
        "    H : hole, fall to your doom\n",
        "    G : goal, where the frisbee is located\n",
        "\n",
        "    The episode ends when you reach the goal or fall in a hole.\n",
        "    You receive a reward of 1 if you reach the goal, and zero otherwise.\n",
        "    \n",
        "    FrozenLake-v0 defines \"solving\" as getting average reward of 0.78 over 100 consecutive trials.\n"
      ]
    },
    {
      "cell_type": "code",
      "execution_count": 1,
      "metadata": {
        "colab": {
          "base_uri": "https://localhost:8080/",
          "height": 208
        },
        "id": "RUozkgyaQLk2",
        "outputId": "b737dcde-b159-4bd5-a145-9fa5cc8093ed"
      },
      "outputs": [
        {
          "output_type": "stream",
          "name": "stdout",
          "text": [
            "\u001b[K     |████████████████████████████████| 1.7 MB 5.5 MB/s \n",
            "\u001b[K     |████████████████████████████████| 144 kB 40.5 MB/s \n",
            "\u001b[K     |████████████████████████████████| 181 kB 46.3 MB/s \n",
            "\u001b[K     |████████████████████████████████| 63 kB 1.6 MB/s \n",
            "\u001b[?25h  Building wheel for pathtools (setup.py) ... \u001b[?25l\u001b[?25hdone\n"
          ]
        },
        {
          "output_type": "display_data",
          "data": {
            "text/plain": [
              "<IPython.core.display.Javascript object>"
            ],
            "application/javascript": [
              "\n",
              "        window._wandbApiKey = new Promise((resolve, reject) => {\n",
              "            function loadScript(url) {\n",
              "            return new Promise(function(resolve, reject) {\n",
              "                let newScript = document.createElement(\"script\");\n",
              "                newScript.onerror = reject;\n",
              "                newScript.onload = resolve;\n",
              "                document.body.appendChild(newScript);\n",
              "                newScript.src = url;\n",
              "            });\n",
              "            }\n",
              "            loadScript(\"https://cdn.jsdelivr.net/npm/postmate/build/postmate.min.js\").then(() => {\n",
              "            const iframe = document.createElement('iframe')\n",
              "            iframe.style.cssText = \"width:0;height:0;border:none\"\n",
              "            document.body.appendChild(iframe)\n",
              "            const handshake = new Postmate({\n",
              "                container: iframe,\n",
              "                url: 'https://wandb.ai/authorize'\n",
              "            });\n",
              "            const timeout = setTimeout(() => reject(\"Couldn't auto authenticate\"), 5000)\n",
              "            handshake.then(function(child) {\n",
              "                child.on('authorize', data => {\n",
              "                    clearTimeout(timeout)\n",
              "                    resolve(data)\n",
              "                });\n",
              "            });\n",
              "            })\n",
              "        });\n",
              "    "
            ]
          },
          "metadata": {}
        },
        {
          "output_type": "stream",
          "name": "stderr",
          "text": [
            "\u001b[34m\u001b[1mwandb\u001b[0m: Appending key for api.wandb.ai to your netrc file: /root/.netrc\n",
            "\u001b[34m\u001b[1mwandb\u001b[0m: Currently logged in as: \u001b[33mieor4575-spring2022\u001b[0m (use `wandb login --relogin` to force relogin)\n"
          ]
        },
        {
          "output_type": "display_data",
          "data": {
            "text/plain": [
              "<IPython.core.display.HTML object>"
            ],
            "text/html": [
              "Tracking run with wandb version 0.12.11"
            ]
          },
          "metadata": {}
        },
        {
          "output_type": "display_data",
          "data": {
            "text/plain": [
              "<IPython.core.display.HTML object>"
            ],
            "text/html": [
              "Run data is saved locally in <code>/content/wandb/run-20220402_011454-3r4i7h8t</code>"
            ]
          },
          "metadata": {}
        },
        {
          "output_type": "display_data",
          "data": {
            "text/plain": [
              "<IPython.core.display.HTML object>"
            ],
            "text/html": [
              "Syncing run <strong><a href=\"https://wandb.ai/ieor4575-spring2022/lab1/runs/3r4i7h8t\" target=\"_blank\">autumn-wildflower-6873</a></strong> to <a href=\"https://wandb.ai/ieor4575-spring2022/lab1\" target=\"_blank\">Weights & Biases</a> (<a href=\"https://wandb.me/run\" target=\"_blank\">docs</a>)<br/>"
            ]
          },
          "metadata": {}
        }
      ],
      "source": [
        "#wandb set up for logging runs online and moving them to the leaderboard\n",
        "!pip install wandb -qqq\n",
        "import wandb\n",
        "wandb.login()\n",
        "run=wandb.init(project=\"lab1\", tags=[\"problem2\"], entity=\"ieor4575-spring2022\")"
      ]
    },
    {
      "cell_type": "code",
      "execution_count": 2,
      "metadata": {
        "id": "s82ydg0jQLk4",
        "colab": {
          "base_uri": "https://localhost:8080/"
        },
        "outputId": "a75cf4d4-ce01-47b9-ba66-f0efdc3c393c"
      },
      "outputs": [
        {
          "output_type": "execute_result",
          "data": {
            "text/plain": [
              "[0]"
            ]
          },
          "metadata": {},
          "execution_count": 2
        }
      ],
      "source": [
        "## DO NOT CHANGE THIS CELL\n",
        "import numpy as np\n",
        "import gym\n",
        "env=gym.make('FrozenLake-v0')\n",
        "env.seed(0)"
      ]
    },
    {
      "cell_type": "markdown",
      "metadata": {
        "id": "WUkVW_DoQLk4"
      },
      "source": [
        "For proper accounting rewards while you learn, we build a wrapper around env.step() and env.reset(). In an episode, every time you take an action the reward will be appended to the reward of the episode, and when ever the environment is reset (at the end of an epsiode), the episode reward is reset to 0. "
      ]
    },
    {
      "cell_type": "code",
      "execution_count": 3,
      "metadata": {
        "id": "-7sXq_2UQLk5"
      },
      "outputs": [],
      "source": [
        "## DO NOT CHANGE THIS CELL\n",
        "#wrapper for accounting rewards\n",
        "rEpisode=0\n",
        "rList=[]\n",
        "fixedWindow=100\n",
        "movingAverage=0\n",
        "\n",
        "def reset_decorate(func):\n",
        "    def func_wrapper():\n",
        "        global rList\n",
        "        global movingAverage\n",
        "        global rEpisode\n",
        "        global fixedwindow\n",
        "        rList.append(rEpisode)\n",
        "        if len(rList) >= fixedWindow:\n",
        "            movingAverage=np.mean(rList[len(rList)-fixedWindow:len(rList)-1])\n",
        "        rEpisode=0\n",
        "        return(func())\n",
        "    return func_wrapper\n",
        "\n",
        "env.reset = reset_decorate(env.reset)\n",
        "\n",
        "def step_decorate(func):\n",
        "    def func_wrapper(action):\n",
        "        global rEpisode\n",
        "        s1, r, d, other = func(action)\n",
        "        rEpisode+=r\n",
        "        return(s1, r, d, other)\n",
        "    return func_wrapper\n",
        "\n",
        "env.step = step_decorate(env.step)\n",
        "\n",
        "def init():\n",
        "    rEpisode=0\n",
        "    rList=[]\n",
        "    movingAverage=0\n",
        "    return"
      ]
    },
    {
      "cell_type": "markdown",
      "metadata": {
        "id": "rWCPH9ZmQLk6"
      },
      "source": [
        "Below we illustrate the execution of the Open AI gym enviornment using the policy of chosing random action in every state. Every time an action is taken the enviorment returns a tuple containing next state, reward, and the status (whether terminal state is reached or not). "
      ]
    },
    {
      "cell_type": "code",
      "execution_count": 4,
      "metadata": {
        "id": "LF9gIn_IQLk7"
      },
      "outputs": [],
      "source": [
        "### RANDOM SAMPLING EXAMPLE\n",
        "num_episodes=1000; #number of episodes you want to try\n",
        "episode_max_length=100; #you can explicitly end the epsiode before terminal state is reached\n",
        "\n",
        "env.reset()\n",
        "#env.render()\n",
        "#execute in episodes\n",
        "for i in range(num_episodes):\n",
        "    \n",
        "    #reset the environment at the beginning of an episode\n",
        "    s = env.reset()\n",
        "    d = False #not done\n",
        "    \n",
        "    for t in range(episode_max_length):\n",
        "        \n",
        "        ################ Random action policy ###########################\n",
        "        #play random action \n",
        "        a = env.action_space.sample()\n",
        "        #get new state, reward, done\n",
        "        s, r, d, _ = env.step(a)\n",
        "        #################################################################\n",
        "        \n",
        "        \n",
        "        #break if done, reached terminal state \n",
        "        if d == True:\n",
        "            break\n",
        "    \n",
        "    \n",
        "    #log per-episode reward and moving average over 100 episodes\n",
        "    wandb.log({ \"random reward\" : rEpisode, \"random reward moving average\" : movingAverage, \"random episode\" : i})"
      ]
    },
    {
      "cell_type": "markdown",
      "metadata": {
        "id": "8uOnbPBAQLk7"
      },
      "source": [
        "Implement tabular TD-learning with policy improvement (*YOU SHOULD ONLY CHANGE THE CELL BELOW*)"
      ]
    },
    {
      "cell_type": "code",
      "source": [
        "init()\n",
        "import random\n",
        "#initialize episodic structure\n",
        "num_episodes=20_000;\n",
        "episode_max_length=25;\n",
        "\n",
        "#initialize discount factor, learning rate\n",
        "gamma=0.95\n",
        "learnRate = 0.9\n",
        "epsilon = 1\n",
        "\n",
        "# store episode returns\n",
        "returns = []\n",
        "#create Q table\n",
        "Q=np.zeros([env.observation_space.n,env.action_space.n]) #matrix Q[s,a]\n",
        "#create policy \n",
        "pi = np.random.randint(low=env.action_space.n, size=env.observation_space.n)#array pi[s]\n",
        "for k in range(10):\n",
        "  # SET POLICY ITERATION k=1,2...\n",
        "    # RESET Q values\n",
        "    epsilon_0 = 1/(k+1)\n",
        "    #Q=np.zeros([env.observation_space.n,env.action_space.n]) \n",
        "    #execute in episodes\n",
        "    for i in range(num_episodes):\n",
        "      #reset the environment at the beginning of an episode\n",
        "      s = env.reset()\n",
        "      d = False #not done\n",
        "      # choose action from s\n",
        "      a = pi[s]\n",
        "      epsilon = -epsilon_0*i**2/num_episodes**2+epsilon_0\n",
        "      returnep = 0\n",
        "      learnRate = np.max([0.8/(np.sqrt(i)+0.8),0.01])\n",
        "      for t in range(episode_max_length):\n",
        "          ###########SELCT ACTION a for state  using current policy ##################\n",
        "          #example\n",
        "          #get new state, reward, done\n",
        "          s1, r, d, _ = env.step(a)\n",
        "          \n",
        "          returnep += gamma ** t * r\n",
        "          # choose action from s1\n",
        "          u = np.random.rand()\n",
        "          if u>epsilon :\n",
        "              a1 = pi[s1]\n",
        "          else :\n",
        "              a1 = env.action_space.sample()\n",
        "          \n",
        "          ##### update Q(s,a) ############\n",
        "          td = r + gamma * (epsilon*np.sum(Q[s1,:])/4+(1-epsilon)*Q[s1,a1]) - Q[s,a]\n",
        "          Q[s,a] += learnRate*td\n",
        "          #break if done, reached terminal state \n",
        "          if d == True:\n",
        "              break\n",
        "          a=a1\n",
        "          s=s1\n",
        "          #log per-episode reward and moving average over 100 episodes\n",
        "      wandb.log({ \"training reward\" : rEpisode, \"training reward moving average\" : movingAverage, \"training episode\" : i})\n",
        "      returns.append(returnep)\n",
        "      #### improve policy pi\n",
        "      if i%1000==0:\n",
        "        pi = np.argmax(Q,axis=1)\n",
        "    wandb.run.summary[\"number of training episodes\"]=num_episodes"
      ],
      "metadata": {
        "id": "v8UMfh_wNpij"
      },
      "execution_count": 5,
      "outputs": []
    },
    {
      "cell_type": "code",
      "execution_count": 6,
      "metadata": {
        "scrolled": false,
        "id": "Bs7qXPOHQLk9",
        "colab": {
          "base_uri": "https://localhost:8080/",
          "height": 441
        },
        "outputId": "67450448-a813-4560-dce0-1a1289ac5efa"
      },
      "outputs": [
        {
          "output_type": "display_data",
          "data": {
            "text/plain": [
              "<wandb.jupyter.IFrame at 0x7fbaba153210>"
            ],
            "text/html": [
              "<iframe src=\"https://wandb.ai/ieor4575-spring2022/lab1/runs/3r4i7h8t?jupyter=true\" style=\"border:none;width:100%;height:420px;\"></iframe>"
            ]
          },
          "metadata": {}
        }
      ],
      "source": [
        "%%wandb\n",
        "## DO NOT CHANGE THIS CELL. CHANGING ANY PART OF THIS CELL CAN DISQUALIFY THE SUBMISSION\n",
        "#Evaluation of trained policy\n",
        "init()\n",
        "num_episodes=1000; #number of episodes for evaluation\n",
        "episode_max_length=100; \n",
        "movingAverageArray=[]\n",
        "score=0\n",
        "env.reset()\n",
        "for i in range(num_episodes):\n",
        "    s = env.reset()\n",
        "    d = False #not done\n",
        "    for t in range(episode_max_length):\n",
        "        a = pi[s]\n",
        "        s, r, d, _ = env.step(a)\n",
        "        if d == True:\n",
        "            break\n",
        "    #log per-episode reward and moving average over 100 episodes\n",
        "    wandb.log({ \"evaluation reward\" : rEpisode, \"evaluation reward moving average\" : movingAverage, \"evaluation episode\" : i})\n",
        "    movingAverageArray.append(movingAverage)\n",
        "    #score is x if there is a window of 100 consecutive episodes where moving average was at least x\n",
        "    if i>100:\n",
        "        score=max(score,min(movingAverageArray[i-100:i-1]))\n",
        "\n",
        "wandb.run.summary[\"score\"]=score "
      ]
    },
    {
      "cell_type": "code",
      "execution_count": 7,
      "metadata": {
        "id": "FYHXbb0JQLk-",
        "colab": {
          "base_uri": "https://localhost:8080/",
          "height": 635,
          "referenced_widgets": [
            "fb0fb9f2a2464dbb9fbbf0a870960499",
            "64fc1132fe32492682d4a6694ccb5ef9",
            "5280acc001af49f193552f3c7fb32603",
            "4f5695e552c24eccbc2059ccfce510dc",
            "e497dfb2d8f04ca7b20e19b440dd8c0c",
            "7120ed674fbb43b59ad91d5c3048ab61",
            "d21b4025f21b4c2ea380625a0ac6d4cb",
            "d7b8763f61984397955949df4b7d7aa0"
          ]
        },
        "outputId": "6437f09d-e4e5-4f19-9b8d-af77e15500cd"
      },
      "outputs": [
        {
          "output_type": "stream",
          "name": "stdout",
          "text": [
            "\n"
          ]
        },
        {
          "output_type": "display_data",
          "data": {
            "text/plain": [
              "<IPython.core.display.HTML object>"
            ],
            "text/html": [
              "Waiting for W&B process to finish... <strong style=\"color:green\">(success).</strong>"
            ]
          },
          "metadata": {}
        },
        {
          "output_type": "display_data",
          "data": {
            "text/plain": [
              "VBox(children=(Label(value='0.001 MB of 0.001 MB uploaded (0.000 MB deduped)\\r'), FloatProgress(value=1.0, max…"
            ],
            "application/vnd.jupyter.widget-view+json": {
              "version_major": 2,
              "version_minor": 0,
              "model_id": "fb0fb9f2a2464dbb9fbbf0a870960499"
            }
          },
          "metadata": {}
        },
        {
          "output_type": "display_data",
          "data": {
            "text/plain": [
              "<IPython.core.display.HTML object>"
            ],
            "text/html": [
              "<style>\n",
              "    table.wandb td:nth-child(1) { padding: 0 10px; text-align: right }\n",
              "    .wandb-row { display: flex; flex-direction: row; flex-wrap: wrap; width: 100% }\n",
              "    .wandb-col { display: flex; flex-direction: column; flex-basis: 100%; flex: 1; padding: 10px; }\n",
              "    </style>\n",
              "<div class=\"wandb-row\"><div class=\"wandb-col\"><h3>Run history:</h3><br/><table class=\"wandb\"><tr><td>evaluation episode</td><td>▁▁▁▂▂▂▂▂▂▃▃▃▃▃▄▄▄▄▄▄▅▅▅▅▅▅▆▆▆▆▆▇▇▇▇▇▇███</td></tr><tr><td>evaluation reward</td><td>█▁▁▁████▁███▁██▁████▁██▁█▁██▁█▁█████▁█▁█</td></tr><tr><td>evaluation reward moving average</td><td>▁▃▄▆▇▆▆▆▆▅▅▅▅▆▆▆▇▇▇███▇██▇▇▆▆▇█▆▆▆▅▅▆▆▇▇</td></tr><tr><td>random episode</td><td>▁▁▁▂▂▂▂▂▂▃▃▃▃▃▄▄▄▄▄▄▅▅▅▅▅▅▆▆▆▆▆▇▇▇▇▇▇███</td></tr><tr><td>random reward</td><td>▁▁▁▁▁▁▁▁▁▁▁▁▁▁▁▁▁▁▁▁▁▁▁▁▁█▁▁▁▁▁▁▁▁▁▁▁▁▁▁</td></tr><tr><td>random reward moving average</td><td>▁▁▁▁▁▁▁▁▁▁▁▁▁▁▁▁▁▁▁▁▁▁███████▁▁▁▁▁▁▁▁▁▁▁</td></tr><tr><td>training episode</td><td>▂▃▅▇▁▃▅▇▁▄▅▇▁▄▅▇▂▃▅▇▂▃▆▇▂▄▆▇▁▄▅█▂▄▅█▂▄▆█</td></tr><tr><td>training reward</td><td>▁▁▁▁▁▁▁▁▁▁▁▁▁▁▁▁▁▁██▁▁▁▁▁▁▁▁▁▁▁█▁▁█▁█▁▁█</td></tr><tr><td>training reward moving average</td><td>▁▁▁▃▃▂▃▅▃▄▄▆▂▅▄▇▂▄▄▆▃▅▅█▄▅▆▆▂▄▅█▅▅▅█▄▅▄▇</td></tr></table><br/></div><div class=\"wandb-col\"><h3>Run summary:</h3><br/><table class=\"wandb\"><tr><td>evaluation episode</td><td>999</td></tr><tr><td>evaluation reward</td><td>1.0</td></tr><tr><td>evaluation reward moving average</td><td>0.77778</td></tr><tr><td>number of training episodes</td><td>20000</td></tr><tr><td>random episode</td><td>999</td></tr><tr><td>random reward</td><td>0.0</td></tr><tr><td>random reward moving average</td><td>0.0</td></tr><tr><td>score</td><td>0.80808</td></tr><tr><td>training episode</td><td>19999</td></tr><tr><td>training reward</td><td>1.0</td></tr><tr><td>training reward moving average</td><td>0.28283</td></tr></table><br/></div></div>"
            ]
          },
          "metadata": {}
        },
        {
          "output_type": "display_data",
          "data": {
            "text/plain": [
              "<IPython.core.display.HTML object>"
            ],
            "text/html": [
              "Synced <strong style=\"color:#cdcd00\">autumn-wildflower-6873</strong>: <a href=\"https://wandb.ai/ieor4575-spring2022/lab1/runs/3r4i7h8t\" target=\"_blank\">https://wandb.ai/ieor4575-spring2022/lab1/runs/3r4i7h8t</a><br/>Synced 4 W&B file(s), 0 media file(s), 0 artifact file(s) and 0 other file(s)"
            ]
          },
          "metadata": {}
        },
        {
          "output_type": "display_data",
          "data": {
            "text/plain": [
              "<IPython.core.display.HTML object>"
            ],
            "text/html": [
              "Find logs at: <code>./wandb/run-20220402_011454-3r4i7h8t/logs</code>"
            ]
          },
          "metadata": {}
        }
      ],
      "source": [
        "run.finish()"
      ]
    },
    {
      "cell_type": "markdown",
      "metadata": {
        "id": "S1rTgTGCQLk-"
      },
      "source": [
        ""
      ]
    }
  ],
  "metadata": {
    "kernelspec": {
      "display_name": "Python 3",
      "language": "python",
      "name": "python3"
    },
    "language_info": {
      "codemirror_mode": {
        "name": "ipython",
        "version": 3
      },
      "file_extension": ".py",
      "mimetype": "text/x-python",
      "name": "python",
      "nbconvert_exporter": "python",
      "pygments_lexer": "ipython3",
      "version": "3.6.12"
    },
    "colab": {
      "name": "Copie de lab1_problem2.ipynb",
      "provenance": [],
      "collapsed_sections": []
    },
    "accelerator": "GPU",
    "widgets": {
      "application/vnd.jupyter.widget-state+json": {
        "fb0fb9f2a2464dbb9fbbf0a870960499": {
          "model_module": "@jupyter-widgets/controls",
          "model_name": "VBoxModel",
          "model_module_version": "1.5.0",
          "state": {
            "_dom_classes": [],
            "_model_module": "@jupyter-widgets/controls",
            "_model_module_version": "1.5.0",
            "_model_name": "VBoxModel",
            "_view_count": null,
            "_view_module": "@jupyter-widgets/controls",
            "_view_module_version": "1.5.0",
            "_view_name": "VBoxView",
            "box_style": "",
            "children": [
              "IPY_MODEL_64fc1132fe32492682d4a6694ccb5ef9",
              "IPY_MODEL_5280acc001af49f193552f3c7fb32603"
            ],
            "layout": "IPY_MODEL_4f5695e552c24eccbc2059ccfce510dc"
          }
        },
        "64fc1132fe32492682d4a6694ccb5ef9": {
          "model_module": "@jupyter-widgets/controls",
          "model_name": "LabelModel",
          "model_module_version": "1.5.0",
          "state": {
            "_dom_classes": [],
            "_model_module": "@jupyter-widgets/controls",
            "_model_module_version": "1.5.0",
            "_model_name": "LabelModel",
            "_view_count": null,
            "_view_module": "@jupyter-widgets/controls",
            "_view_module_version": "1.5.0",
            "_view_name": "LabelView",
            "description": "",
            "description_tooltip": null,
            "layout": "IPY_MODEL_e497dfb2d8f04ca7b20e19b440dd8c0c",
            "placeholder": "​",
            "style": "IPY_MODEL_7120ed674fbb43b59ad91d5c3048ab61",
            "value": "0.008 MB of 0.008 MB uploaded (0.000 MB deduped)\r"
          }
        },
        "5280acc001af49f193552f3c7fb32603": {
          "model_module": "@jupyter-widgets/controls",
          "model_name": "FloatProgressModel",
          "model_module_version": "1.5.0",
          "state": {
            "_dom_classes": [],
            "_model_module": "@jupyter-widgets/controls",
            "_model_module_version": "1.5.0",
            "_model_name": "FloatProgressModel",
            "_view_count": null,
            "_view_module": "@jupyter-widgets/controls",
            "_view_module_version": "1.5.0",
            "_view_name": "ProgressView",
            "bar_style": "",
            "description": "",
            "description_tooltip": null,
            "layout": "IPY_MODEL_d21b4025f21b4c2ea380625a0ac6d4cb",
            "max": 1,
            "min": 0,
            "orientation": "horizontal",
            "style": "IPY_MODEL_d7b8763f61984397955949df4b7d7aa0",
            "value": 1
          }
        },
        "4f5695e552c24eccbc2059ccfce510dc": {
          "model_module": "@jupyter-widgets/base",
          "model_name": "LayoutModel",
          "model_module_version": "1.2.0",
          "state": {
            "_model_module": "@jupyter-widgets/base",
            "_model_module_version": "1.2.0",
            "_model_name": "LayoutModel",
            "_view_count": null,
            "_view_module": "@jupyter-widgets/base",
            "_view_module_version": "1.2.0",
            "_view_name": "LayoutView",
            "align_content": null,
            "align_items": null,
            "align_self": null,
            "border": null,
            "bottom": null,
            "display": null,
            "flex": null,
            "flex_flow": null,
            "grid_area": null,
            "grid_auto_columns": null,
            "grid_auto_flow": null,
            "grid_auto_rows": null,
            "grid_column": null,
            "grid_gap": null,
            "grid_row": null,
            "grid_template_areas": null,
            "grid_template_columns": null,
            "grid_template_rows": null,
            "height": null,
            "justify_content": null,
            "justify_items": null,
            "left": null,
            "margin": null,
            "max_height": null,
            "max_width": null,
            "min_height": null,
            "min_width": null,
            "object_fit": null,
            "object_position": null,
            "order": null,
            "overflow": null,
            "overflow_x": null,
            "overflow_y": null,
            "padding": null,
            "right": null,
            "top": null,
            "visibility": null,
            "width": null
          }
        },
        "e497dfb2d8f04ca7b20e19b440dd8c0c": {
          "model_module": "@jupyter-widgets/base",
          "model_name": "LayoutModel",
          "model_module_version": "1.2.0",
          "state": {
            "_model_module": "@jupyter-widgets/base",
            "_model_module_version": "1.2.0",
            "_model_name": "LayoutModel",
            "_view_count": null,
            "_view_module": "@jupyter-widgets/base",
            "_view_module_version": "1.2.0",
            "_view_name": "LayoutView",
            "align_content": null,
            "align_items": null,
            "align_self": null,
            "border": null,
            "bottom": null,
            "display": null,
            "flex": null,
            "flex_flow": null,
            "grid_area": null,
            "grid_auto_columns": null,
            "grid_auto_flow": null,
            "grid_auto_rows": null,
            "grid_column": null,
            "grid_gap": null,
            "grid_row": null,
            "grid_template_areas": null,
            "grid_template_columns": null,
            "grid_template_rows": null,
            "height": null,
            "justify_content": null,
            "justify_items": null,
            "left": null,
            "margin": null,
            "max_height": null,
            "max_width": null,
            "min_height": null,
            "min_width": null,
            "object_fit": null,
            "object_position": null,
            "order": null,
            "overflow": null,
            "overflow_x": null,
            "overflow_y": null,
            "padding": null,
            "right": null,
            "top": null,
            "visibility": null,
            "width": null
          }
        },
        "7120ed674fbb43b59ad91d5c3048ab61": {
          "model_module": "@jupyter-widgets/controls",
          "model_name": "DescriptionStyleModel",
          "model_module_version": "1.5.0",
          "state": {
            "_model_module": "@jupyter-widgets/controls",
            "_model_module_version": "1.5.0",
            "_model_name": "DescriptionStyleModel",
            "_view_count": null,
            "_view_module": "@jupyter-widgets/base",
            "_view_module_version": "1.2.0",
            "_view_name": "StyleView",
            "description_width": ""
          }
        },
        "d21b4025f21b4c2ea380625a0ac6d4cb": {
          "model_module": "@jupyter-widgets/base",
          "model_name": "LayoutModel",
          "model_module_version": "1.2.0",
          "state": {
            "_model_module": "@jupyter-widgets/base",
            "_model_module_version": "1.2.0",
            "_model_name": "LayoutModel",
            "_view_count": null,
            "_view_module": "@jupyter-widgets/base",
            "_view_module_version": "1.2.0",
            "_view_name": "LayoutView",
            "align_content": null,
            "align_items": null,
            "align_self": null,
            "border": null,
            "bottom": null,
            "display": null,
            "flex": null,
            "flex_flow": null,
            "grid_area": null,
            "grid_auto_columns": null,
            "grid_auto_flow": null,
            "grid_auto_rows": null,
            "grid_column": null,
            "grid_gap": null,
            "grid_row": null,
            "grid_template_areas": null,
            "grid_template_columns": null,
            "grid_template_rows": null,
            "height": null,
            "justify_content": null,
            "justify_items": null,
            "left": null,
            "margin": null,
            "max_height": null,
            "max_width": null,
            "min_height": null,
            "min_width": null,
            "object_fit": null,
            "object_position": null,
            "order": null,
            "overflow": null,
            "overflow_x": null,
            "overflow_y": null,
            "padding": null,
            "right": null,
            "top": null,
            "visibility": null,
            "width": null
          }
        },
        "d7b8763f61984397955949df4b7d7aa0": {
          "model_module": "@jupyter-widgets/controls",
          "model_name": "ProgressStyleModel",
          "model_module_version": "1.5.0",
          "state": {
            "_model_module": "@jupyter-widgets/controls",
            "_model_module_version": "1.5.0",
            "_model_name": "ProgressStyleModel",
            "_view_count": null,
            "_view_module": "@jupyter-widgets/base",
            "_view_module_version": "1.2.0",
            "_view_name": "StyleView",
            "bar_color": null,
            "description_width": ""
          }
        }
      }
    }
  },
  "nbformat": 4,
  "nbformat_minor": 0
}
