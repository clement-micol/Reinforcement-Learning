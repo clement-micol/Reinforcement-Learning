{
  "cells": [
    {
      "cell_type": "markdown",
      "metadata": {
        "id": "3aNAcJKSP7Me"
      },
      "source": [
        "# Lab 1: Problem 1 (MDP algorithms: tabular Q-learning)"
      ]
    },
    {
      "cell_type": "markdown",
      "metadata": {
        "id": "OxYtD0ZfP7Mi"
      },
      "source": [
        "*OpenAI gym FrozenLake environment*\n",
        "\n",
        "Winter is here. You and your friends were tossing around a frisbee at the park\n",
        "    when you made a wild throw that left the frisbee out in the middle of the lake.\n",
        "    The water is mostly frozen, but there are a few holes where the ice has melted.\n",
        "    If you step into one of those holes, you'll fall into the freezing water.\n",
        "    At this time, there's an international frisbee shortage, so it's absolutely imperative that\n",
        "    you navigate across the lake and retrieve the disc.\n",
        "    However, the ice is slippery, so you won't always move in the direction you intend.\n",
        "    The surface is described using a grid like the following\n",
        "\n",
        "        SFFF\n",
        "        FHFH\n",
        "        FFFH\n",
        "        HFFG\n",
        "\n",
        "    S : starting point, safe\n",
        "    F : frozen surface, safe\n",
        "    H : hole, fall to your doom\n",
        "    G : goal, where the frisbee is located\n",
        "\n",
        "    The episode ends when you reach the goal or fall in a hole.\n",
        "    You receive a reward of 1 if you reach the goal, and zero otherwise.\n",
        "    \n",
        "    FrozenLake-v0 defines \"solving\" as getting average reward of 0.78 over 100 consecutive trials.\n"
      ]
    },
    {
      "cell_type": "code",
      "execution_count": null,
      "metadata": {
        "id": "Hi-GbKIMP7Mk",
        "outputId": "3659f150-2a97-49ba-a6f0-2f696db6114a",
        "colab": {
          "base_uri": "https://localhost:8080/",
          "height": 52
        }
      },
      "outputs": [
        {
          "output_type": "display_data",
          "data": {
            "text/html": [
              "Tracking run with wandb version 0.12.11"
            ],
            "text/plain": [
              "<IPython.core.display.HTML object>"
            ]
          },
          "metadata": {}
        },
        {
          "output_type": "display_data",
          "data": {
            "text/html": [
              "Run data is saved locally in <code>/content/wandb/run-20220303_223647-2hgz7isy</code>"
            ],
            "text/plain": [
              "<IPython.core.display.HTML object>"
            ]
          },
          "metadata": {}
        }
      ],
      "source": [
        "#wandb set up for logging runs online and moving them to the leaderboard\n",
        "!pip install wandb -qqq\n",
        "import wandb\n",
        "wandb.login()\n",
        "run=wandb.init(project=\"lab1\", tags=[\"problem1\"], entity=\"ieor4575-spring2022\")"
      ]
    },
    {
      "cell_type": "code",
      "execution_count": null,
      "metadata": {
        "id": "OhatI4mwP7Ml",
        "outputId": "7f097200-db9b-4980-b26d-f35ba09918ef",
        "colab": {
          "base_uri": "https://localhost:8080/"
        }
      },
      "outputs": [
        {
          "output_type": "execute_result",
          "data": {
            "text/plain": [
              "[0]"
            ]
          },
          "metadata": {},
          "execution_count": 333
        }
      ],
      "source": [
        "## DO NOT CHANGE THIS CELL\n",
        "import numpy as np\n",
        "import gym\n",
        "env=gym.make('FrozenLake-v0')\n",
        "env.seed(0)"
      ]
    },
    {
      "cell_type": "markdown",
      "metadata": {
        "id": "UkH27OGFP7Mm"
      },
      "source": [
        "For proper accounting rewards while you learn, we build a wrapper around env.step() and env.reset(). In an episode, every time you take an action the reward will be appended to the reward of the episode, and when ever the environment is reset (at the end of an epsiode), the episode reward is reset to 0. "
      ]
    },
    {
      "cell_type": "code",
      "execution_count": null,
      "metadata": {
        "id": "ayazVgzdP7Mn"
      },
      "outputs": [],
      "source": [
        "## DO NOT CHANGE THIS CELL\n",
        "#wrapper for accounting rewards\n",
        "rEpisode=0\n",
        "rList=[]\n",
        "fixedWindow=100\n",
        "movingAverage=0\n",
        "\n",
        "def reset_decorate(func):\n",
        "    def func_wrapper():\n",
        "        global rList\n",
        "        global movingAverage\n",
        "        global rEpisode\n",
        "        global fixedwindow\n",
        "        rList.append(rEpisode)\n",
        "        if len(rList) >= fixedWindow:\n",
        "            movingAverage=np.mean(rList[len(rList)-fixedWindow:len(rList)-1])\n",
        "        rEpisode=0\n",
        "        return(func())\n",
        "    return func_wrapper\n",
        "\n",
        "env.reset = reset_decorate(env.reset)\n",
        "\n",
        "def step_decorate(func):\n",
        "    def func_wrapper(action):\n",
        "        global rEpisode\n",
        "        s1, r, d, other = func(action)\n",
        "        rEpisode+=r\n",
        "        return(s1, r, d, other)\n",
        "    return func_wrapper\n",
        "\n",
        "env.step = step_decorate(env.step)\n",
        "\n",
        "def init():\n",
        "    rEpisode=0\n",
        "    rList=[]\n",
        "    movingAverage=0\n",
        "    return"
      ]
    },
    {
      "cell_type": "markdown",
      "metadata": {
        "id": "LXmu5q2ZP7Mo"
      },
      "source": [
        "Below we illustrate the execution of the Open AI gym enviornment using the policy of chosing random action in every state. Every time an action is taken the enviorment returns a tuple containing next state, reward, and the status (whether terminal state is reached or not). "
      ]
    },
    {
      "cell_type": "code",
      "execution_count": null,
      "metadata": {
        "id": "p21-sTXvP7Mp"
      },
      "outputs": [],
      "source": [
        "### RANDOM SAMPLING EXAMPLE\n",
        "num_episodes=1000; #number of episodes you want to try\n",
        "episode_max_length=100; #you can explicitly end the epsiode before terminal state is reached\n",
        "\n",
        "env.reset()\n",
        "#env.render()\n",
        "#execute in episodes\n",
        "for i in range(num_episodes):\n",
        "    \n",
        "    #reset the environment at the beginning of an episode\n",
        "    s = env.reset()\n",
        "    d = False #not done\n",
        "    \n",
        "    for t in range(episode_max_length):\n",
        "        \n",
        "        ################ Random action policy ###########################\n",
        "        #play random action \n",
        "        a = env.action_space.sample()\n",
        "        #get new state, reward, done\n",
        "        s, r, d, _ = env.step(a)\n",
        "        #################################################################\n",
        "        \n",
        "        \n",
        "        #break if done, reached terminal state \n",
        "        if d == True:\n",
        "            break\n",
        "    \n",
        "    \n",
        "    #log per-episode reward and moving average over 100 episodes\n",
        "    wandb.log({ \"random reward\" : rEpisode, \"random reward moving average\" : movingAverage, \"random episode\" : i})"
      ]
    },
    {
      "cell_type": "markdown",
      "metadata": {
        "id": "l27kPgcBP7Mp"
      },
      "source": [
        "Implement tabular Q-learning (*YOU SHOULD ONLY CHANGE THE CELL BELOW*)"
      ]
    },
    {
      "cell_type": "code",
      "execution_count": null,
      "metadata": {
        "id": "AIqgN7tKP7Mq"
      },
      "outputs": [],
      "source": [
        "#initialize episodic structure\n",
        "init()\n",
        "num_episodes=10000; #number of training episodes, you can increase this to train more\n",
        "episode_max_length=100;\n",
        "#initialize discount factor, learning rate\n",
        "gamma=0.95\n",
        "learnRate=0.8\n",
        "\n",
        "#create Q table\n",
        "Q=np.zeros([env.observation_space.n,env.action_space.n]) #Q(s,a). The Q-values from this array will be used to evaluate your policy.\n",
        "n=np.ones([env.observation_space.n,env.action_space.n])  #recording number of trails for each arm\n",
        "\n",
        "#execute in episodes\n",
        "for i in range(num_episodes):\n",
        "    #if i>500 and i<=1000:\n",
        "    #  learnRate = 0.5\n",
        "    #elif i>1000 and i<=1500:\n",
        "    #  learnRate = 0.25\n",
        "    #elif i >1500:\n",
        "    #  learnRate = 0.1\n",
        "    #reset the environment at the beginning of an episode\n",
        "    learnRate = -.99/(num_episodes-1)*i+1\n",
        "    s = env.reset()\n",
        "    d = False #not done\n",
        "    epsilon = 0\n",
        "    for t in range(episode_max_length):\n",
        "        ###########SELECT ACTION a for state s using Q-values ##################\n",
        "        #example\n",
        "        # a = np.argmax(Q[s,:])\n",
        "        u = np.random.rand()\n",
        "        if u<epsilon :\n",
        "          a = np.argmax(Q[s,:])\n",
        "        else :\n",
        "          a = env.action_space.sample()\n",
        "        \n",
        "        #get new state, reward, done\n",
        "        s1, r, d, _ = env.step(a)\n",
        "        \n",
        "        ##### update Q(s,a) ############\n",
        "        td = r + gamma*np.max(Q[s1,:])-Q[s,a]\n",
        "        Q[s,a] += learnRate*td\n",
        "        if np.abs(r + gamma*np.max(Q[s1,:])-Q[s,a])<=1e-5:\n",
        "          epsilon = min(epsilon+0.05,1)\n",
        "        else :\n",
        "          epsilon = max(0,epsilon-0.05)\n",
        "                \n",
        "        #break if done, reached terminal state \n",
        "        if d == True:\n",
        "            break\n",
        "        s=s1\n",
        "    \n",
        "    #log per-episode reward and moving average over 100 episodes\n",
        "    wandb.log({ \"training reward\" : rEpisode, \"training reward moving average\" : movingAverage, \"training episode\" : i})\n",
        "wandb.run.summary[\"number of training episodes\"]=num_episodes"
      ]
    },
    {
      "cell_type": "code",
      "execution_count": null,
      "metadata": {
        "scrolled": false,
        "id": "OyyIpv_DP7Mr",
        "outputId": "93fd4b5e-9598-499a-aecb-1c29a476e4e4",
        "colab": {
          "base_uri": "https://localhost:8080/",
          "height": 441
        }
      },
      "outputs": [
        {
          "output_type": "display_data",
          "data": {
            "text/html": [
              "<iframe src=\"https://wandb.ai/ieor4575-spring2022/lab1/runs/2hgz7isy?jupyter=true\" style=\"border:none;width:100%;height:420px;\"></iframe>"
            ],
            "text/plain": [
              "<wandb.jupyter.IFrame at 0x7fc821e54c50>"
            ]
          },
          "metadata": {}
        }
      ],
      "source": [
        "%%wandb\n",
        "## DO NOT CHANGE THIS CELL. CHANGING ANY PART OF THIS CELL CAN DISQUALIFY THE SUBMISSION\n",
        "#Evaluation of trained policy\n",
        "init()\n",
        "num_episodes=1000; #number of episodes for evaluation\n",
        "episode_max_length=100; \n",
        "movingAverageArray=[]\n",
        "score=0\n",
        "env.reset()\n",
        "for i in range(num_episodes):\n",
        "    s = env.reset()\n",
        "    d = False #not done\n",
        "    for t in range(episode_max_length):\n",
        "        a = np.argmax(Q[s,:])\n",
        "        s, r, d, _ = env.step(a)\n",
        "        if d == True:\n",
        "            break\n",
        "    #log per-episode reward and moving average over 100 episodes\n",
        "    wandb.log({ \"evaluation reward\" : rEpisode, \"evaluation reward moving average\" : movingAverage, \"evaluation episode\" : i})\n",
        "    movingAverageArray.append(movingAverage)\n",
        "    #score is x if there is a window of 100 consecutive episodes where moving average was at least x\n",
        "    if i>100:\n",
        "        score=max(score,min(movingAverageArray[i-100:i-1]))\n",
        "\n",
        "\n",
        "wandb.run.summary[\"score\"]=score "
      ]
    },
    {
      "cell_type": "code",
      "execution_count": null,
      "metadata": {
        "id": "qJlAB0bPP7Ms",
        "outputId": "48e68bc6-a727-489c-d341-211d7dacc15f",
        "colab": {
          "base_uri": "https://localhost:8080/",
          "height": 439,
          "referenced_widgets": [
            "967dade626f94ce6b487e7019dccb4d6",
            "0b75715f4f5748f7ad2da80c8da955d7",
            "97d678088ced45b0995d72aff88d808f",
            "4f0d4844c5ce4cbe97277e7806d3a7df",
            "7e010bc971064216956e1a914445d8f8",
            "ec12d0e3b37b450fa832baca8ba9f7a6",
            "5cc86c55899b48e39db9351cb4e5874a",
            "aea882ad22ff47f98dc0d14aa2e0fddb"
          ]
        }
      },
      "outputs": [
        {
          "output_type": "stream",
          "name": "stdout",
          "text": [
            "\n"
          ]
        },
        {
          "output_type": "display_data",
          "data": {
            "text/html": [
              "Waiting for W&B process to finish... <strong style=\"color:green\">(success).</strong>"
            ],
            "text/plain": [
              "<IPython.core.display.HTML object>"
            ]
          },
          "metadata": {}
        },
        {
          "output_type": "display_data",
          "data": {
            "application/vnd.jupyter.widget-view+json": {
              "model_id": "967dade626f94ce6b487e7019dccb4d6",
              "version_minor": 0,
              "version_major": 2
            },
            "text/plain": [
              "VBox(children=(Label(value='0.001 MB of 0.001 MB uploaded (0.000 MB deduped)\\r'), FloatProgress(value=1.0, max…"
            ]
          },
          "metadata": {}
        },
        {
          "output_type": "display_data",
          "data": {
            "text/html": [
              "<style>\n",
              "    table.wandb td:nth-child(1) { padding: 0 10px; text-align: right }\n",
              "    .wandb-row { display: flex; flex-direction: row; flex-wrap: wrap; width: 100% }\n",
              "    .wandb-col { display: flex; flex-direction: column; flex-basis: 100%; flex: 1; padding: 10px; }\n",
              "    </style>\n",
              "<div class=\"wandb-row\"><div class=\"wandb-col\"><h3>Run history:</h3><br/><table class=\"wandb\"><tr><td>evaluation episode</td><td>▁▁▁▂▂▂▂▂▂▃▃▃▃▃▄▄▄▄▄▄▅▅▅▅▅▅▆▆▆▆▆▇▇▇▇▇▇███</td></tr><tr><td>evaluation reward</td><td>▁█▁██▁████▁▁████▁███▁▁██▁████▁███▁▁▁▁███</td></tr><tr><td>evaluation reward moving average</td><td>▁▃▄▆▇▇▇▇▆▆▇▇█████▇▇▇▇▆▆▇▇▇████▇▇▇▇▇▇▇▇▇▇</td></tr><tr><td>random episode</td><td>▁▁▁▂▂▂▂▂▂▃▃▃▃▃▄▄▄▄▄▄▅▅▅▅▅▅▆▆▆▆▆▇▇▇▇▇▇███</td></tr><tr><td>random reward</td><td>▁▁▁▁▁▁█▁▁▁█▁▁▁▁▁▁▁▁▁▁▁▁▁▁▁▁▁▁▁▁▁▁▁▁▁▁▁▁▁</td></tr><tr><td>random reward moving average</td><td>▁▁▁▁▃▃▅▅▅▅▆▅▅▅▁▁▁▃▆██▆▃▁▁▁▁▁▃▅▅▆▆▅▅▁▁▁▃▃</td></tr><tr><td>training episode</td><td>▁▁▁▁▂▂▂▂▂▃▃▃▃▃▃▄▄▄▄▄▅▅▅▅▅▅▆▆▆▆▆▇▇▇▇▇▇███</td></tr><tr><td>training reward</td><td>▁▁▁▁▁▁▁▁▁█▁▁▁▁▁▁▁▁▁▁▁▁▁▁▁▁▁▁▁▁▁▁▁▁▁▁▁▁▁▁</td></tr><tr><td>training reward moving average</td><td>▁▃▁▁█▆▅▁▃█▆▃▅▅▃▅▁▃▅▅▅▃▃▁▃▆█▃▃▃▃▃▁▁▃▅▁▃▆▃</td></tr></table><br/></div><div class=\"wandb-col\"><h3>Run summary:</h3><br/><table class=\"wandb\"><tr><td>evaluation episode</td><td>999</td></tr><tr><td>evaluation reward</td><td>0.0</td></tr><tr><td>evaluation reward moving average</td><td>0.74747</td></tr><tr><td>number of training episodes</td><td>10000</td></tr><tr><td>random episode</td><td>999</td></tr><tr><td>random reward</td><td>0.0</td></tr><tr><td>random reward moving average</td><td>0.0101</td></tr><tr><td>score</td><td>0.81818</td></tr><tr><td>training episode</td><td>9999</td></tr><tr><td>training reward</td><td>0.0</td></tr><tr><td>training reward moving average</td><td>0.0202</td></tr></table><br/></div></div>"
            ],
            "text/plain": [
              "<IPython.core.display.HTML object>"
            ]
          },
          "metadata": {}
        },
        {
          "output_type": "display_data",
          "data": {
            "text/html": [
              "Synced <strong style=\"color:#cdcd00\">efficient-totem-132</strong>: <a href=\"https://wandb.ai/ieor4575-spring2022/lab1/runs/2hgz7isy\" target=\"_blank\">https://wandb.ai/ieor4575-spring2022/lab1/runs/2hgz7isy</a><br/>Synced 4 W&B file(s), 0 media file(s), 0 artifact file(s) and 0 other file(s)"
            ],
            "text/plain": [
              "<IPython.core.display.HTML object>"
            ]
          },
          "metadata": {}
        },
        {
          "output_type": "display_data",
          "data": {
            "text/html": [
              "Find logs at: <code>./wandb/run-20220303_223647-2hgz7isy/logs</code>"
            ],
            "text/plain": [
              "<IPython.core.display.HTML object>"
            ]
          },
          "metadata": {}
        }
      ],
      "source": [
        "run.finish()"
      ]
    },
    {
      "cell_type": "markdown",
      "metadata": {
        "id": "HSRnO370P7Ms"
      },
      "source": [
        ""
      ]
    }
  ],
  "metadata": {
    "kernelspec": {
      "display_name": "Python 3",
      "language": "python",
      "name": "python3"
    },
    "language_info": {
      "codemirror_mode": {
        "name": "ipython",
        "version": 3
      },
      "file_extension": ".py",
      "mimetype": "text/x-python",
      "name": "python",
      "nbconvert_exporter": "python",
      "pygments_lexer": "ipython3",
      "version": "3.6.12"
    },
    "colab": {
      "name": "Copie de lab1_problem1.ipynb",
      "provenance": [],
      "collapsed_sections": []
    },
    "widgets": {
      "application/vnd.jupyter.widget-state+json": {
        "967dade626f94ce6b487e7019dccb4d6": {
          "model_module": "@jupyter-widgets/controls",
          "model_name": "VBoxModel",
          "model_module_version": "1.5.0",
          "state": {
            "_view_name": "VBoxView",
            "_dom_classes": [],
            "_model_name": "VBoxModel",
            "_view_module": "@jupyter-widgets/controls",
            "_model_module_version": "1.5.0",
            "_view_count": null,
            "_view_module_version": "1.5.0",
            "box_style": "",
            "layout": "IPY_MODEL_0b75715f4f5748f7ad2da80c8da955d7",
            "_model_module": "@jupyter-widgets/controls",
            "children": [
              "IPY_MODEL_97d678088ced45b0995d72aff88d808f",
              "IPY_MODEL_4f0d4844c5ce4cbe97277e7806d3a7df"
            ]
          }
        },
        "0b75715f4f5748f7ad2da80c8da955d7": {
          "model_module": "@jupyter-widgets/base",
          "model_name": "LayoutModel",
          "model_module_version": "1.2.0",
          "state": {
            "_view_name": "LayoutView",
            "grid_template_rows": null,
            "right": null,
            "justify_content": null,
            "_view_module": "@jupyter-widgets/base",
            "overflow": null,
            "_model_module_version": "1.2.0",
            "_view_count": null,
            "flex_flow": null,
            "width": null,
            "min_width": null,
            "border": null,
            "align_items": null,
            "bottom": null,
            "_model_module": "@jupyter-widgets/base",
            "top": null,
            "grid_column": null,
            "overflow_y": null,
            "overflow_x": null,
            "grid_auto_flow": null,
            "grid_area": null,
            "grid_template_columns": null,
            "flex": null,
            "_model_name": "LayoutModel",
            "justify_items": null,
            "grid_row": null,
            "max_height": null,
            "align_content": null,
            "visibility": null,
            "align_self": null,
            "height": null,
            "min_height": null,
            "padding": null,
            "grid_auto_rows": null,
            "grid_gap": null,
            "max_width": null,
            "order": null,
            "_view_module_version": "1.2.0",
            "grid_template_areas": null,
            "object_position": null,
            "object_fit": null,
            "grid_auto_columns": null,
            "margin": null,
            "display": null,
            "left": null
          }
        },
        "97d678088ced45b0995d72aff88d808f": {
          "model_module": "@jupyter-widgets/controls",
          "model_name": "LabelModel",
          "model_module_version": "1.5.0",
          "state": {
            "_view_name": "LabelView",
            "style": "IPY_MODEL_7e010bc971064216956e1a914445d8f8",
            "_dom_classes": [],
            "description": "",
            "_model_name": "LabelModel",
            "placeholder": "​",
            "_view_module": "@jupyter-widgets/controls",
            "_model_module_version": "1.5.0",
            "value": "0.008 MB of 0.008 MB uploaded (0.000 MB deduped)\r",
            "_view_count": null,
            "_view_module_version": "1.5.0",
            "description_tooltip": null,
            "_model_module": "@jupyter-widgets/controls",
            "layout": "IPY_MODEL_ec12d0e3b37b450fa832baca8ba9f7a6"
          }
        },
        "4f0d4844c5ce4cbe97277e7806d3a7df": {
          "model_module": "@jupyter-widgets/controls",
          "model_name": "FloatProgressModel",
          "model_module_version": "1.5.0",
          "state": {
            "_view_name": "ProgressView",
            "style": "IPY_MODEL_5cc86c55899b48e39db9351cb4e5874a",
            "_dom_classes": [],
            "description": "",
            "_model_name": "FloatProgressModel",
            "bar_style": "",
            "max": 1,
            "_view_module": "@jupyter-widgets/controls",
            "_model_module_version": "1.5.0",
            "value": 1,
            "_view_count": null,
            "_view_module_version": "1.5.0",
            "orientation": "horizontal",
            "min": 0,
            "description_tooltip": null,
            "_model_module": "@jupyter-widgets/controls",
            "layout": "IPY_MODEL_aea882ad22ff47f98dc0d14aa2e0fddb"
          }
        },
        "7e010bc971064216956e1a914445d8f8": {
          "model_module": "@jupyter-widgets/controls",
          "model_name": "DescriptionStyleModel",
          "model_module_version": "1.5.0",
          "state": {
            "_view_name": "StyleView",
            "_model_name": "DescriptionStyleModel",
            "description_width": "",
            "_view_module": "@jupyter-widgets/base",
            "_model_module_version": "1.5.0",
            "_view_count": null,
            "_view_module_version": "1.2.0",
            "_model_module": "@jupyter-widgets/controls"
          }
        },
        "ec12d0e3b37b450fa832baca8ba9f7a6": {
          "model_module": "@jupyter-widgets/base",
          "model_name": "LayoutModel",
          "model_module_version": "1.2.0",
          "state": {
            "_view_name": "LayoutView",
            "grid_template_rows": null,
            "right": null,
            "justify_content": null,
            "_view_module": "@jupyter-widgets/base",
            "overflow": null,
            "_model_module_version": "1.2.0",
            "_view_count": null,
            "flex_flow": null,
            "width": null,
            "min_width": null,
            "border": null,
            "align_items": null,
            "bottom": null,
            "_model_module": "@jupyter-widgets/base",
            "top": null,
            "grid_column": null,
            "overflow_y": null,
            "overflow_x": null,
            "grid_auto_flow": null,
            "grid_area": null,
            "grid_template_columns": null,
            "flex": null,
            "_model_name": "LayoutModel",
            "justify_items": null,
            "grid_row": null,
            "max_height": null,
            "align_content": null,
            "visibility": null,
            "align_self": null,
            "height": null,
            "min_height": null,
            "padding": null,
            "grid_auto_rows": null,
            "grid_gap": null,
            "max_width": null,
            "order": null,
            "_view_module_version": "1.2.0",
            "grid_template_areas": null,
            "object_position": null,
            "object_fit": null,
            "grid_auto_columns": null,
            "margin": null,
            "display": null,
            "left": null
          }
        },
        "5cc86c55899b48e39db9351cb4e5874a": {
          "model_module": "@jupyter-widgets/controls",
          "model_name": "ProgressStyleModel",
          "model_module_version": "1.5.0",
          "state": {
            "_view_name": "StyleView",
            "_model_name": "ProgressStyleModel",
            "description_width": "",
            "_view_module": "@jupyter-widgets/base",
            "_model_module_version": "1.5.0",
            "_view_count": null,
            "_view_module_version": "1.2.0",
            "bar_color": null,
            "_model_module": "@jupyter-widgets/controls"
          }
        },
        "aea882ad22ff47f98dc0d14aa2e0fddb": {
          "model_module": "@jupyter-widgets/base",
          "model_name": "LayoutModel",
          "model_module_version": "1.2.0",
          "state": {
            "_view_name": "LayoutView",
            "grid_template_rows": null,
            "right": null,
            "justify_content": null,
            "_view_module": "@jupyter-widgets/base",
            "overflow": null,
            "_model_module_version": "1.2.0",
            "_view_count": null,
            "flex_flow": null,
            "width": null,
            "min_width": null,
            "border": null,
            "align_items": null,
            "bottom": null,
            "_model_module": "@jupyter-widgets/base",
            "top": null,
            "grid_column": null,
            "overflow_y": null,
            "overflow_x": null,
            "grid_auto_flow": null,
            "grid_area": null,
            "grid_template_columns": null,
            "flex": null,
            "_model_name": "LayoutModel",
            "justify_items": null,
            "grid_row": null,
            "max_height": null,
            "align_content": null,
            "visibility": null,
            "align_self": null,
            "height": null,
            "min_height": null,
            "padding": null,
            "grid_auto_rows": null,
            "grid_gap": null,
            "max_width": null,
            "order": null,
            "_view_module_version": "1.2.0",
            "grid_template_areas": null,
            "object_position": null,
            "object_fit": null,
            "grid_auto_columns": null,
            "margin": null,
            "display": null,
            "left": null
          }
        }
      }
    }
  },
  "nbformat": 4,
  "nbformat_minor": 0
}
